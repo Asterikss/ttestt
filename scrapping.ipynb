{
 "cells": [
  {
   "cell_type": "code",
   "execution_count": 1,
   "id": "6fc5b314",
   "metadata": {},
   "outputs": [],
   "source": [
    "from bs4 import BeautifulSoup"
   ]
  },
  {
   "cell_type": "code",
   "execution_count": 3,
   "id": "e0eba278",
   "metadata": {},
   "outputs": [],
   "source": [
    "import requests"
   ]
  },
  {
   "cell_type": "code",
   "execution_count": 16,
   "id": "2f3d8cc8",
   "metadata": {},
   "outputs": [],
   "source": [
    "url = \"https://www.santander.pl/regulation_file_server/download?id=150273&lang=pl_PL\"\n",
    "url2 = \"https://www.santander.pl/klient-indywidualny/oszczednosci-i-inwestycje/lokata-dla-ciebie\"\n",
    "url3 = \"https://www.tanie-konto.pl/ranking-lokat/\""
   ]
  },
  {
   "cell_type": "code",
   "execution_count": 17,
   "id": "1516efe1",
   "metadata": {},
   "outputs": [],
   "source": [
    "page = requests.get(url3)"
   ]
  },
  {
   "cell_type": "code",
   "execution_count": 18,
   "id": "e434d859",
   "metadata": {},
   "outputs": [],
   "source": [
    "soup = BeautifulSoup(page.text, 'html')"
   ]
  },
  {
   "cell_type": "code",
   "execution_count": 23,
   "id": "6dce4559",
   "metadata": {},
   "outputs": [
    {
     "ename": "KeyError",
     "evalue": "0",
     "output_type": "error",
     "traceback": [
      "\u001b[0;31m---------------------------------------------------------------------------\u001b[0m",
      "\u001b[0;31mKeyError\u001b[0m                                  Traceback (most recent call last)",
      "Cell \u001b[0;32mIn[23], line 1\u001b[0m\n\u001b[0;32m----> 1\u001b[0m find_table \u001b[38;5;241m=\u001b[39m \u001b[43msoup\u001b[49m\u001b[38;5;241;43m.\u001b[39;49m\u001b[43mfind\u001b[49m\u001b[43m(\u001b[49m\u001b[38;5;124;43m'\u001b[39;49m\u001b[38;5;124;43mtable\u001b[39;49m\u001b[38;5;124;43m'\u001b[39;49m\u001b[43m)\u001b[49m\u001b[43m[\u001b[49m\u001b[38;5;241;43m0\u001b[39;49m\u001b[43m]\u001b[49m\n",
      "File \u001b[0;32m~/anaconda3/lib/python3.10/site-packages/bs4/element.py:1573\u001b[0m, in \u001b[0;36mTag.__getitem__\u001b[0;34m(self, key)\u001b[0m\n\u001b[1;32m   1570\u001b[0m \u001b[38;5;28;01mdef\u001b[39;00m \u001b[38;5;21m__getitem__\u001b[39m(\u001b[38;5;28mself\u001b[39m, key):\n\u001b[1;32m   1571\u001b[0m \u001b[38;5;250m    \u001b[39m\u001b[38;5;124;03m\"\"\"tag[key] returns the value of the 'key' attribute for the Tag,\u001b[39;00m\n\u001b[1;32m   1572\u001b[0m \u001b[38;5;124;03m    and throws an exception if it's not there.\"\"\"\u001b[39;00m\n\u001b[0;32m-> 1573\u001b[0m     \u001b[38;5;28;01mreturn\u001b[39;00m \u001b[38;5;28;43mself\u001b[39;49m\u001b[38;5;241;43m.\u001b[39;49m\u001b[43mattrs\u001b[49m\u001b[43m[\u001b[49m\u001b[43mkey\u001b[49m\u001b[43m]\u001b[49m\n",
      "\u001b[0;31mKeyError\u001b[0m: 0"
     ]
    }
   ],
   "source": [
    "find_table = soup.find('table')"
   ]
  },
  {
   "cell_type": "code",
   "execution_count": 22,
   "id": "9db4e522",
   "metadata": {},
   "outputs": [
    {
     "data": {
      "text/plain": [
       "5"
      ]
     },
     "execution_count": 22,
     "metadata": {},
     "output_type": "execute_result"
    }
   ],
   "source": [
    "len(find_table)"
   ]
  },
  {
   "cell_type": "code",
   "execution_count": 31,
   "id": "d8f41709",
   "metadata": {},
   "outputs": [],
   "source": [
    "find_table2 = soup.find('table', class_ = 'tablesaw top_table_block full_width_rating tablesorter')"
   ]
  },
  {
   "cell_type": "code",
   "execution_count": 35,
   "id": "504da302",
   "metadata": {},
   "outputs": [
    {
     "ename": "TypeError",
     "evalue": "'NoneType' object is not callable",
     "output_type": "error",
     "traceback": [
      "\u001b[0;31m---------------------------------------------------------------------------\u001b[0m",
      "\u001b[0;31mTypeError\u001b[0m                                 Traceback (most recent call last)",
      "Cell \u001b[0;32mIn[35], line 1\u001b[0m\n\u001b[0;32m----> 1\u001b[0m \u001b[38;5;28mprint\u001b[39m(\u001b[43mfind_table2\u001b[49m\u001b[38;5;241;43m.\u001b[39;49m\u001b[43mhead\u001b[49m\u001b[43m(\u001b[49m\u001b[43m)\u001b[49m)\n",
      "\u001b[0;31mTypeError\u001b[0m: 'NoneType' object is not callable"
     ]
    }
   ],
   "source": [
    "print(find_table2)"
   ]
  },
  {
   "cell_type": "code",
   "execution_count": 33,
   "id": "a00a33bb",
   "metadata": {},
   "outputs": [
    {
     "data": {
      "text/plain": [
       "True"
      ]
     },
     "execution_count": 33,
     "metadata": {},
     "output_type": "execute_result"
    }
   ],
   "source": [
    "find_table2 == find_table # true"
   ]
  },
  {
   "cell_type": "code",
   "execution_count": 39,
   "id": "4c2f1b7a",
   "metadata": {},
   "outputs": [],
   "source": [
    "columns_raw = find_table.find_all('th')"
   ]
  },
  {
   "cell_type": "code",
   "execution_count": 42,
   "id": "13c509ca",
   "metadata": {},
   "outputs": [
    {
     "data": {
      "text/plain": [
       "[<th class=\"product_col_name\" data-tablesaw-priority=\"persist\">Bank</th>,\n",
       " <th class=\"col_name\" data-tablesaw-priority=\"1\">Nazwa </th>,\n",
       " <th class=\"col_name\" data-tablesaw-priority=\"1\">Wysokość oprocentowania</th>,\n",
       " <th class=\"col_name\" data-tablesaw-priority=\"1\">Dodatkowe informacje</th>,\n",
       " <th class=\"buttons_col_name\" data-tablesaw-priority=\"1\"></th>]"
      ]
     },
     "execution_count": 42,
     "metadata": {},
     "output_type": "execute_result"
    }
   ],
   "source": [
    "columns_raw"
   ]
  },
  {
   "cell_type": "code",
   "execution_count": 52,
   "id": "69571c5a",
   "metadata": {},
   "outputs": [
    {
     "data": {
      "text/plain": [
       "bs4.element.Tag"
      ]
     },
     "execution_count": 52,
     "metadata": {},
     "output_type": "execute_result"
    }
   ],
   "source": [
    "type(columns_raw[0])"
   ]
  },
  {
   "cell_type": "code",
   "execution_count": 56,
   "id": "986da163",
   "metadata": {},
   "outputs": [],
   "source": [
    "columns = [c_raw.text for c_raw in columns_raw[:-1]]"
   ]
  },
  {
   "cell_type": "code",
   "execution_count": 57,
   "id": "bf7639df",
   "metadata": {},
   "outputs": [
    {
     "data": {
      "text/plain": [
       "['Bank', 'Nazwa ', 'Wysokość oprocentowania', 'Dodatkowe informacje']"
      ]
     },
     "execution_count": 57,
     "metadata": {},
     "output_type": "execute_result"
    }
   ],
   "source": [
    "columns"
   ]
  },
  {
   "cell_type": "code",
   "execution_count": 58,
   "id": "dbf1047c",
   "metadata": {},
   "outputs": [],
   "source": [
    "import pandas as pd"
   ]
  },
  {
   "cell_type": "code",
   "execution_count": 59,
   "id": "9eba6cf1",
   "metadata": {},
   "outputs": [],
   "source": [
    "df = pd.DataFrame(columns = columns)"
   ]
  },
  {
   "cell_type": "code",
   "execution_count": 60,
   "id": "2cd87629",
   "metadata": {},
   "outputs": [
    {
     "data": {
      "text/html": [
       "<div>\n",
       "<style scoped>\n",
       "    .dataframe tbody tr th:only-of-type {\n",
       "        vertical-align: middle;\n",
       "    }\n",
       "\n",
       "    .dataframe tbody tr th {\n",
       "        vertical-align: top;\n",
       "    }\n",
       "\n",
       "    .dataframe thead th {\n",
       "        text-align: right;\n",
       "    }\n",
       "</style>\n",
       "<table border=\"1\" class=\"dataframe\">\n",
       "  <thead>\n",
       "    <tr style=\"text-align: right;\">\n",
       "      <th></th>\n",
       "      <th>Bank</th>\n",
       "      <th>Nazwa</th>\n",
       "      <th>Wysokość oprocentowania</th>\n",
       "      <th>Dodatkowe informacje</th>\n",
       "    </tr>\n",
       "  </thead>\n",
       "  <tbody>\n",
       "  </tbody>\n",
       "</table>\n",
       "</div>"
      ],
      "text/plain": [
       "Empty DataFrame\n",
       "Columns: [Bank, Nazwa , Wysokość oprocentowania, Dodatkowe informacje]\n",
       "Index: []"
      ]
     },
     "execution_count": 60,
     "metadata": {},
     "output_type": "execute_result"
    }
   ],
   "source": [
    "df"
   ]
  },
  {
   "cell_type": "code",
   "execution_count": 62,
   "id": "4abd66f6",
   "metadata": {},
   "outputs": [],
   "source": [
    "column_data = find_table2.find_all('tr')"
   ]
  },
  {
   "cell_type": "code",
   "execution_count": 78,
   "id": "0cfc7749",
   "metadata": {},
   "outputs": [
    {
     "name": "stdout",
     "output_type": "stream",
     "text": [
      "['', 'Nest Lokata Witaj\\n\\n\\n \\n1000 - 25000 zł\\n\\n\\n \\n6 miesięcy\\n\\n\\n\\nAnaliza lokaty', '7,1%', 'Tylko dla nowych klientów\\nNależy założyć Nest Konto, a następnie zapewnić w każdym miesiącu trwania lokaty wpływ min. 2000 zł oraz wykonać min. 3 dowolne transakcje (płatność kartą/blikiem, przelew)\\nNależy wyrazić zgody marketingowe\\n\\n\\n\\n\\n\\n\\n Lokatę można założyć w bankowości elektronicznej  w ciągu 30 dni od otwarcia darmowego konta w Nest Banku', 'Sprawdź']\n",
      "~~~~~~~~~~\n",
      "[1, 'Nest Lokata Witaj 1000 - 25000 zł 6 miesięcy', '7,1%', 'Tylko dla nowych klientówNależy założyć Nest Konto, a następnie zapewnić w każdym miesiącu trwania lokaty wpływ min. 2000 zł oraz wykonać min. 3 dowolne transakcje (płatność kartą/blikiem, przelew)Należy wyrazić zgody marketingowe Lokatę można założyć w bankowości elektronicznej  w ciągu 30 dni od otwarcia darmowego konta w Nest Banku']\n"
     ]
    }
   ],
   "source": [
    "for i, row in enumerate(column_data[1:], 1):\n",
    "  row_data = row.find_all(\"td\")\n",
    "  indiv_row_data = [rd.text.strip() for rd in row_data]\n",
    "  print(indiv_row_data)\n",
    "  print(\"~~~~~~~~~~\")\n",
    "  created_row = []\n",
    "  created_row.append(i)\n",
    "  created_row.append(indiv_row_data[1].replace('\\n', '').replace('Analiza lokaty', ''))\n",
    "  created_row.append(indiv_row_data[2])\n",
    "  created_row.append(indiv_row_data[3].replace('\\n', ''))\n",
    "  #print(i)\n",
    "  #print(indiv_row_data[1].replace('\\n', '').replace('Analiza lokaty', ''))\n",
    "  print(created_row)\n",
    "  df.loc[len(df)] = created_row\n",
    "#   created_row = [i, ]\n",
    "  break"
   ]
  },
  {
   "cell_type": "code",
   "execution_count": 79,
   "id": "9165da64",
   "metadata": {},
   "outputs": [
    {
     "data": {
      "text/html": [
       "<div>\n",
       "<style scoped>\n",
       "    .dataframe tbody tr th:only-of-type {\n",
       "        vertical-align: middle;\n",
       "    }\n",
       "\n",
       "    .dataframe tbody tr th {\n",
       "        vertical-align: top;\n",
       "    }\n",
       "\n",
       "    .dataframe thead th {\n",
       "        text-align: right;\n",
       "    }\n",
       "</style>\n",
       "<table border=\"1\" class=\"dataframe\">\n",
       "  <thead>\n",
       "    <tr style=\"text-align: right;\">\n",
       "      <th></th>\n",
       "      <th>Bank</th>\n",
       "      <th>Nazwa</th>\n",
       "      <th>Wysokość oprocentowania</th>\n",
       "      <th>Dodatkowe informacje</th>\n",
       "    </tr>\n",
       "  </thead>\n",
       "  <tbody>\n",
       "    <tr>\n",
       "      <th>0</th>\n",
       "      <td>1</td>\n",
       "      <td>Nest Lokata Witaj 1000 - 25000 zł 6 miesięcy</td>\n",
       "      <td>7,1%</td>\n",
       "      <td>Tylko dla nowych klientówNależy założyć Nest K...</td>\n",
       "    </tr>\n",
       "  </tbody>\n",
       "</table>\n",
       "</div>"
      ],
      "text/plain": [
       "   Bank                                        Nazwa  Wysokość oprocentowania  \\\n",
       "0     1  Nest Lokata Witaj 1000 - 25000 zł 6 miesięcy                    7,1%   \n",
       "\n",
       "                                Dodatkowe informacje  \n",
       "0  Tylko dla nowych klientówNależy założyć Nest K...  "
      ]
     },
     "execution_count": 79,
     "metadata": {},
     "output_type": "execute_result"
    }
   ],
   "source": [
    "df"
   ]
  },
  {
   "cell_type": "code",
   "execution_count": null,
   "id": "bbbcde29",
   "metadata": {},
   "outputs": [],
   "source": []
  }
 ],
 "metadata": {
  "kernelspec": {
   "display_name": "Python 3 (ipykernel)",
   "language": "python",
   "name": "python3"
  },
  "language_info": {
   "codemirror_mode": {
    "name": "ipython",
    "version": 3
   },
   "file_extension": ".py",
   "mimetype": "text/x-python",
   "name": "python",
   "nbconvert_exporter": "python",
   "pygments_lexer": "ipython3",
   "version": "3.10.13"
  }
 },
 "nbformat": 4,
 "nbformat_minor": 5
}
